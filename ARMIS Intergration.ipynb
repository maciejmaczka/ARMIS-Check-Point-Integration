{
 "cells": [
  {
   "cell_type": "code",
   "execution_count": 6,
   "metadata": {},
   "outputs": [],
   "source": [
    "import requests, json\n",
    "import warnings\n",
    "\n",
    "ip_address = 'partner-demo.armis.com'\n",
    "token = \"d12b9eca35280446b61709109cb8f647fc8faf1ca0b8c3b3ef5dacd286d59f9f\"\n",
    "\n",
    "ckp_address = '192.168.10.250'\n",
    "ckp_token = 'vpn123'\n",
    "\n",
    "\n"
   ]
  },
  {
   "cell_type": "code",
   "execution_count": 7,
   "metadata": {},
   "outputs": [],
   "source": [
    "warnings.filterwarnings(\"ignore\")\n",
    "def api_call_post(ip_addr, port, command, json_payload, access_token):\n",
    "    url = 'https://' + ip_address  + ':' + '443' + '/api/v1/' + command +'/'\n",
    "    \n",
    "    \n",
    "    if access_token == '':\n",
    "        request_headers = {'Content-Type' : 'application/x-www-form-urlencoded' , \"accept\" : \"application/json\" }\n",
    "    else:\n",
    "       \n",
    "        request_headers = {\"accept\" : \"application/json\" ,\"Authorization\" : access_token }\n",
    "        \n",
    "    r = requests.post(url,(json_payload), headers=request_headers, verify=False)\n",
    "\n",
    "    return r.json()\n",
    "\n",
    "\n",
    "def api_call_get(ip_addr, port, command, json_payload, access_token):\n",
    "    url = 'https://' + ip_address  + ':' + '443' + '/api/v1/' + command +'/'\n",
    "    \n",
    "    \n",
    "    if access_token == '':\n",
    "        request_headers = {'Content-Type' : 'application/x-www-form-urlencoded' , \"accept\" : \"application/json\" }\n",
    "    else:\n",
    "        \n",
    "        request_headers = {\"accept\" : \"application/json\" ,\"Authorization\" : access_token }\n",
    "        \n",
    "    r = requests.get(url,(json_payload), headers=request_headers, verify=False)\n",
    "\n",
    "    return r.json()\n",
    "\n",
    "\n",
    "\n",
    "\n",
    "def login(token):\n",
    "    payload = {'secret_key':token}\n",
    "    response = api_call_post(ip_address, 443, 'access_token', payload, \"\" )\n",
    "   \n",
    "    return response[\"data\"][\"access_token\"]"
   ]
  },
  {
   "cell_type": "code",
   "execution_count": 8,
   "metadata": {
    "scrolled": false
   },
   "outputs": [
    {
     "name": "stdout",
     "output_type": "stream",
     "text": [
      "d47dd44a1db88f91e29d8edb0706c6e6c83cec0619486e9b51438d84e2fd638e\n"
     ]
    }
   ],
   "source": [
    "access_token = login(token)\n",
    "print(access_token)"
   ]
  },
  {
   "cell_type": "code",
   "execution_count": null,
   "metadata": {},
   "outputs": [],
   "source": []
  },
  {
   "cell_type": "code",
   "execution_count": 9,
   "metadata": {},
   "outputs": [],
   "source": [
    "payload = { \"tag\" : \"ICS\" , \"length\" : \"100\"}\n",
    "response_ict = api_call_get(ip_address, 433, \"devices/\", payload, access_token);"
   ]
  },
  {
   "cell_type": "code",
   "execution_count": 10,
   "metadata": {},
   "outputs": [
    {
     "name": "stdout",
     "output_type": "stream",
     "text": [
      "{'data': {'count': 79, 'data': [{'accessSwitch': 'N/A', 'category': 'Network', 'firstSeen': '2020-08-30T01:45:30.089640', 'id': 479, 'ipAddress': '192.168.40.10', 'lastSeen': '2020-09-13T05:45:54.389471', 'macAddress': '3a:d5:0c:ce:72:ff', 'manufacturer': 'Rockwell', 'model': 'Rockwell Controller', 'name': 'Rockwell device', 'operatingSystem': None, 'operatingSystemVersion': None, 'riskLevel': 7, 'sensor': {'name': 'ICS_Switch', 'type': 'Switch'}, 'site': {'location': 'Austin, TX', 'name': 'TX Manufacturing Center'}, 'tags': ['ICS'], 'type': 'Appliance', 'user': '', 'visibility': 'Full'}, {'accessSwitch': 'N/A', 'category': 'Manufacturing', 'firstSeen': '2020-08-30T01:45:30.089640', 'id': 480, 'ipAddress': '192.168.1.132', 'lastSeen': '2020-09-13T05:45:54.400469', 'macAddress': 'db:9d:36:1a:0f:4a', 'manufacturer': 'Keyence Inc', 'model': 'DMP device', 'name': 'Mettler Keyence HMI-Server', 'operatingSystem': 'Windows', 'operatingSystemVersion': '10', 'riskLevel': 7, 'sensor': {'name': 'ICS_Switch', 'type': 'Switch'}, 'site': {'location': 'Austin, TX', 'name': 'TX Manufacturing Center'}, 'tags': ['ICS'], 'type': 'Hmi Panel', 'user': '', 'visibility': 'Full'}, {'accessSwitch': 'N/A', 'category': 'Generic Iot', 'firstSeen': '2020-08-30T01:45:30.089640', 'id': 481, 'ipAddress': '192.168.40.31', 'lastSeen': '2020-09-13T05:45:54.411880', 'macAddress': 'be:f6:71:dc:3f:09', 'manufacturer': 'Rockwell', 'model': 'Rockwell Weight Sensor', 'name': 'Rockwell device', 'operatingSystem': None, 'operatingSystemVersion': None, 'riskLevel': 6, 'sensor': {'name': 'ICS_Switch', 'type': 'Switch'}, 'site': {'location': 'Austin, TX', 'name': 'TX Manufacturing Center'}, 'tags': ['ICS'], 'type': 'Sensor', 'user': '', 'visibility': 'Full'}, {'accessSwitch': 'N/A', 'category': 'Generic Iot', 'firstSeen': '2020-08-30T01:45:30.089640', 'id': 482, 'ipAddress': '192.168.40.33', 'lastSeen': '2020-09-13T05:45:54.422740', 'macAddress': '1e:aa:85:cb:fd:ed', 'manufacturer': 'Rockwell', 'model': 'Rockwell Temprature Sensor', 'name': 'Rockwell device', 'operatingSystem': None, 'operatingSystemVersion': None, 'riskLevel': 5, 'sensor': {'name': 'ICS_Switch', 'type': 'Switch'}, 'site': {'location': 'Austin, TX', 'name': 'TX Manufacturing Center'}, 'tags': ['ICS'], 'type': 'Sensor', 'user': '', 'visibility': 'Full'}, {'accessSwitch': 'N/A', 'category': 'Generic Iot', 'firstSeen': '2020-08-30T01:45:30.089640', 'id': 483, 'ipAddress': '192.168.40.37', 'lastSeen': '2020-09-13T05:45:54.433562', 'macAddress': '54:3f:e9:72:ca:cd', 'manufacturer': 'Rockwell', 'model': 'Rockwell Pressure Sensor', 'name': 'Rockwell device', 'operatingSystem': None, 'operatingSystemVersion': None, 'riskLevel': 6, 'sensor': {'name': 'ICS_Switch', 'type': 'Switch'}, 'site': {'location': 'Austin, TX', 'name': 'TX Manufacturing Center'}, 'tags': ['ICS'], 'type': 'Sensor', 'user': '', 'visibility': 'Full'}, {'accessSwitch': 'N/A', 'category': 'Automation', 'firstSeen': '2020-08-30T01:45:30.089640', 'id': 484, 'ipAddress': '192.168.40.101', 'lastSeen': '2020-09-13T05:45:54.444473', 'macAddress': '8e:bd:e5:c0:93:df', 'manufacturer': 'Siemens', 'model': 'Pt100', 'name': 'Room Temprature Sensor Pt100', 'operatingSystem': None, 'operatingSystemVersion': None, 'riskLevel': 6, 'sensor': {'name': 'ICS_Switch', 'type': 'Switch'}, 'site': {'location': 'Austin, TX', 'name': 'TX Manufacturing Center'}, 'tags': ['ICS'], 'type': 'Hvac', 'user': '', 'visibility': 'Full'}, {'accessSwitch': 'N/A', 'category': 'Automation', 'firstSeen': '2020-08-30T01:45:30.089640', 'id': 485, 'ipAddress': '192.168.10.62', 'lastSeen': '2020-09-13T05:45:54.455435', 'macAddress': 'ba:df:cb:65:c7:1d', 'manufacturer': 'Acromag Inc', 'model': 'DT233', 'name': 'Acromag Thermostat Control', 'operatingSystem': None, 'operatingSystemVersion': None, 'riskLevel': 5, 'sensor': {'name': 'ICS_Switch', 'type': 'Switch'}, 'site': {'location': 'Austin, TX', 'name': 'TX Manufacturing Center'}, 'tags': ['ICS'], 'type': 'Hvac', 'user': '', 'visibility': 'Full'}, {'accessSwitch': 'N/A', 'category': 'Automation', 'firstSeen': '2020-08-30T01:45:30.089640', 'id': 486, 'ipAddress': '192.168.1.116', 'lastSeen': '2020-09-13T05:45:54.466748', 'macAddress': 'f9:f1:6a:bd:58:7e', 'manufacturer': 'Siemens', 'model': 'Pt100', 'name': 'Siemens Room Temperature Sensor', 'operatingSystem': None, 'operatingSystemVersion': None, 'riskLevel': 6, 'sensor': {'name': 'ICS_Switch', 'type': 'Switch'}, 'site': {'location': 'Austin, TX', 'name': 'TX Manufacturing Center'}, 'tags': ['ICS'], 'type': 'Hvac', 'user': '', 'visibility': 'Full'}, {'accessSwitch': 'N/A', 'category': 'Generic Iot', 'firstSeen': '2020-08-30T01:45:30.089640', 'id': 487, 'ipAddress': '192.168.4.229', 'lastSeen': '2020-09-13T05:45:54.477787', 'macAddress': 'ba:36:af:f8:4c:2d', 'manufacturer': 'Keyence Inc', 'model': 'FD-X', 'name': 'Keyence Flow Sensor FD-X', 'operatingSystem': None, 'operatingSystemVersion': None, 'riskLevel': 5, 'sensor': {'name': 'ICS_Switch', 'type': 'Switch'}, 'site': {'location': 'Austin, TX', 'name': 'TX Manufacturing Center'}, 'tags': ['ICS'], 'type': 'Sensor', 'user': '', 'visibility': 'Full'}, {'accessSwitch': 'N/A', 'category': 'Instruments', 'firstSeen': '2020-08-30T01:45:30.089640', 'id': 488, 'ipAddress': '192.168.4.221', 'lastSeen': '2020-09-13T05:45:54.488793', 'macAddress': '7e:f9:ba:da:e6:45', 'manufacturer': 'Keyence Inc', 'model': 'FT', 'name': 'Keyence Temperature Device FT', 'operatingSystem': None, 'operatingSystemVersion': None, 'riskLevel': 6, 'sensor': {'name': 'ICS_Switch', 'type': 'Switch'}, 'site': {'location': 'Austin, TX', 'name': 'TX Manufacturing Center'}, 'tags': ['ICS'], 'type': 'Measuring', 'user': '', 'visibility': 'Full'}, {'accessSwitch': 'N/A', 'category': 'Instruments', 'firstSeen': '2020-08-30T01:45:30.089640', 'id': 489, 'ipAddress': '192.168.10.40', 'lastSeen': '2020-09-13T05:45:54.499739', 'macAddress': 'ca:7b:b6:18:dd:9c', 'manufacturer': 'Metter Teledo Hi Speed', 'model': 'Density Meter D5', 'name': 'Mettler Scale', 'operatingSystem': 'Densito', 'operatingSystemVersion': 'V32.2', 'riskLevel': 6, 'sensor': {'name': 'ICS_Switch', 'type': 'Switch'}, 'site': {'location': 'Austin, TX', 'name': 'TX Manufacturing Center'}, 'tags': ['ICS'], 'type': 'Measuring', 'user': '', 'visibility': 'Full'}, {'accessSwitch': 'N/A', 'category': 'Manufacturing', 'firstSeen': '2020-08-30T01:45:30.089640', 'id': 490, 'ipAddress': '192.168.40.11', 'lastSeen': '2020-09-13T05:45:54.510644', 'macAddress': 'db:fc:74:ea:23:e8', 'manufacturer': 'Rockwell Automation/Allen-Bradley', 'model': '1756-L72S/B LOGIX5572SAFETY', 'name': '1756-L72S/B LOGIX5572SAFETY', 'operatingSystem': 'Product 147', 'operatingSystemVersion': '20.13', 'riskLevel': 4, 'sensor': {'name': 'ICS_Switch', 'type': 'Switch'}, 'site': {'location': 'Austin, TX', 'name': 'TX Manufacturing Center'}, 'tags': ['ICS'], 'type': 'Plc', 'user': '', 'visibility': 'Full'}, {'accessSwitch': 'N/A', 'category': 'Manufacturing', 'firstSeen': '2020-08-30T01:45:30.089640', 'id': 491, 'ipAddress': '192.168.40.12', 'lastSeen': '2020-09-13T05:45:54.521940', 'macAddress': 'aa:13:d9:ed:7b:c5', 'manufacturer': 'Rockwell Automation/Allen-Bradley', 'model': '1756-L83E/B', 'name': '1756-L83E/B', 'operatingSystem': 'Product 166', 'operatingSystemVersion': '28.13', 'riskLevel': 4, 'sensor': {'name': 'ICS_Switch', 'type': 'Switch'}, 'site': {'location': 'Austin, TX', 'name': 'TX Manufacturing Center'}, 'tags': ['ICS'], 'type': 'Plc', 'user': '', 'visibility': 'Full'}, {'accessSwitch': 'N/A', 'category': 'Manufacturing', 'firstSeen': '2020-08-30T01:45:30.089640', 'id': 492, 'ipAddress': '192.168.40.12', 'lastSeen': '2020-09-13T05:45:54.532827', 'macAddress': 'e6:3a:1f:b8:5d:c2', 'manufacturer': 'Rockwell Automation/Allen-Bradley', 'model': '1756-L83E/B', 'name': '1756-L83E/B', 'operatingSystem': 'Product 166', 'operatingSystemVersion': '28.13', 'riskLevel': 4, 'sensor': {'name': 'ICS_Switch', 'type': 'Switch'}, 'site': {'location': 'Austin, TX', 'name': 'TX Manufacturing Center'}, 'tags': ['ICS'], 'type': 'Plc', 'user': '', 'visibility': 'Full'}, {'accessSwitch': 'N/A', 'category': 'Manufacturing', 'firstSeen': '2020-08-30T01:45:30.089640', 'id': 493, 'ipAddress': '192.168.6.55', 'lastSeen': '2020-09-13T05:45:54.543847', 'macAddress': '3c:d0:d9:e6:f4:27', 'manufacturer': 'Rockwell Automation', 'model': 'Telemechanique PLC', 'name': 'Telemechanique PLC', 'operatingSystem': 'TeleOS', 'operatingSystemVersion': '5.2', 'riskLevel': 7, 'sensor': {'name': 'ICS_Switch', 'type': 'Switch'}, 'site': {'location': 'Austin, TX', 'name': 'TX Manufacturing Center'}, 'tags': ['ICS'], 'type': 'Plc', 'user': '', 'visibility': 'Full'}, {'accessSwitch': 'N/A', 'category': 'Manufacturing', 'firstSeen': '2020-08-30T01:45:30.089640', 'id': 494, 'ipAddress': '192.168.6.72', 'lastSeen': '2020-09-13T05:45:54.554806', 'macAddress': '7e:bf:3a:ca:6b:15', 'manufacturer': 'Rockwell Automation', 'model': 'PanelView-Plus', 'name': 'PanelView-Plus PLC', 'operatingSystem': 'Panelview', 'operatingSystemVersion': '5.2', 'riskLevel': 7, 'sensor': {'name': 'ICS_Switch', 'type': 'Switch'}, 'site': {'location': 'Austin, TX', 'name': 'TX Manufacturing Center'}, 'tags': ['ICS'], 'type': 'Plc', 'user': '', 'visibility': 'Full'}, {'accessSwitch': 'N/A', 'category': 'Manufacturing', 'firstSeen': '2020-08-30T01:45:30.089640', 'id': 495, 'ipAddress': '10.20.80.141', 'lastSeen': '2020-09-13T05:45:55.291074', 'macAddress': 'db:2b:50:ac:9f:d6', 'manufacturer': 'Rockwell Automation', 'model': '1756-L71/B LOGIX5571', 'name': '1756-L71/B LOGIX5571', 'operatingSystem': 'Rockwell Automation/Allen-Bradley OS', 'operatingSystemVersion': '28.012', 'riskLevel': 9, 'sensor': {'name': 'ICS_Switch', 'type': 'Switch'}, 'site': {'location': 'Austin, TX', 'name': 'TX Manufacturing Center'}, 'tags': ['ICS', 'ICS-CERT:ICSA-19-211-01', 'VxWorks', 'ICS-CERT:ICSA-16-343-05,', 'ICS-CERT:ICSA-18-310-02', 'Serial Number=0xa29c8e', 'ICS-CERT:ICSA-13-011-03'], 'type': 'Plc', 'user': '', 'visibility': 'Full'}, {'accessSwitch': 'N/A', 'category': 'Manufacturing', 'firstSeen': '2020-08-30T01:45:30.089640', 'id': 496, 'ipAddress': '10.20.80.95', 'lastSeen': '2020-09-13T05:45:55.291074', 'macAddress': 'd0:8e:9f:5d:3e:bb', 'manufacturer': 'Rockwell Automation', 'model': '1769-L32E/A LOGIX5332E', 'name': '1769-L32E/A LOGIX5332E1', 'operatingSystem': 'Rockwell Automation/Allen-Bradley OS', 'operatingSystemVersion': '20.013', 'riskLevel': 9, 'sensor': {'name': 'ICS_Switch', 'type': 'Switch'}, 'site': {'location': 'Austin, TX', 'name': 'TX Manufacturing Center'}, 'tags': ['ICS-CERT:ICSA-13-011-03', 'ICS', 'ICS-CERT:ICSA-16-343-05,', 'VxWorks', 'Serial Number=0x3ec008', 'ICS-CERT:ICSA-19-211-01'], 'type': 'Plc', 'user': '', 'visibility': 'Full'}, {'accessSwitch': 'N/A', 'category': 'Manufacturing', 'firstSeen': '2020-08-30T01:45:30.089640', 'id': 497, 'ipAddress': '10.20.80.123', 'lastSeen': '2020-09-13T05:45:55.291074', 'macAddress': '27:b4:d3:5c:eb:ce', 'manufacturer': 'Rockwell Automation', 'model': '1756-L81E/B', 'name': '1756-L81E/B1', 'operatingSystem': 'Rockwell Automation/Allen-Bradley OS', 'operatingSystemVersion': '31.011', 'riskLevel': 9, 'sensor': {'name': 'ICS_Switch', 'type': 'Switch'}, 'site': {'location': 'Austin, TX', 'name': 'TX Manufacturing Center'}, 'tags': ['ICS', 'ICS-CERT:ICSA-19-211-01', 'ICS-CERT:ICSA-17-157-01', 'Serial Number=0xf8172a', 'ICS-CERT:ICSA-13-011-03', 'ICS-CERT:ICSA-16-343-05', 'ICS-CERT:ICSA-18-310-02'], 'type': 'Plc', 'user': '', 'visibility': 'Full'}, {'accessSwitch': 'N/A', 'category': 'Manufacturing', 'firstSeen': '2020-08-30T01:45:30.089640', 'id': 498, 'ipAddress': '10.20.80.166', 'lastSeen': '2020-09-13T05:45:54.628294', 'macAddress': '97:5d:ac:24:6f:3e', 'manufacturer': 'Rockwell Automation', 'model': '1769-L16ER/A LOGIX5316ER', 'name': '1769-L16ER/A LOGIX5316ER', 'operatingSystem': 'Rockwell Automation/Allen-Bradley OS', 'operatingSystemVersion': '20.012', 'riskLevel': 9, 'sensor': {'name': 'ICS_Switch', 'type': 'Switch'}, 'site': {'location': 'Austin, TX', 'name': 'TX Manufacturing Center'}, 'tags': ['ICS', 'ICS-CERT:ICSA-19-211-01'], 'type': 'Plc', 'user': '', 'visibility': 'Full'}, {'accessSwitch': 'N/A', 'category': 'Manufacturing', 'firstSeen': '2020-08-30T01:45:30.089640', 'id': 499, 'ipAddress': '10.20.80.124', 'lastSeen': '2020-09-13T05:45:55.291074', 'macAddress': '8d:76:db:1f:39:50', 'manufacturer': 'Rockwell Automation', 'model': '1769-L32E/A LOGIX5332E', 'name': '1769-L32E/A LOGIX5332E2', 'operatingSystem': 'Rockwell Automation/Allen-Bradley OS', 'operatingSystemVersion': '20.013', 'riskLevel': 9, 'sensor': {'name': 'ICS_Switch', 'type': 'Switch'}, 'site': {'location': 'Austin, TX', 'name': 'TX Manufacturing Center'}, 'tags': ['ICS', 'ICS-CERT:ICSA-19-211-01', 'Serial Number=0x3ebfa0', 'VxWorks', 'ICS-CERT:ICSA-13-011-03', 'ICS-CERT:ICSA-16-343-05'], 'type': 'Plc', 'user': '', 'visibility': 'Full'}, {'accessSwitch': 'N/A', 'category': 'Manufacturing', 'firstSeen': '2020-08-30T01:45:30.089640', 'id': 500, 'ipAddress': '10.20.80.190', 'lastSeen': '2020-09-13T05:45:55.291074', 'macAddress': 'cf:d4:e0:5b:c1:da', 'manufacturer': 'Rockwell Automation', 'model': '1756-L81E/B', 'name': '1756-L81E/B2', 'operatingSystem': 'Rockwell Automation/Allen-Bradley OS', 'operatingSystemVersion': '31.011', 'riskLevel': 9, 'sensor': {'name': 'ICS_Switch', 'type': 'Switch'}, 'site': {'location': 'Austin, TX', 'name': 'TX Manufacturing Center'}, 'tags': ['ICS-CERT:ICSA-13-011-03', 'ICS', 'ICS-CERT:ICSA-19-211-01', 'ICS-CERT:ICSA-16-343-05', 'Serial Number=0xfa8273', 'ICS-CERT:ICSA-18-310-02'], 'type': 'Plc', 'user': '', 'visibility': 'Full'}, {'accessSwitch': 'N/A', 'category': 'Manufacturing', 'firstSeen': '2020-08-30T01:45:30.089640', 'id': 501, 'ipAddress': '10.20.80.88', 'lastSeen': '2020-09-13T05:45:54.677314', 'macAddress': '5c:ca:1b:f0:fb:72', 'manufacturer': 'AC Tech corporation DBA Advanced Digital', 'model': 'Kinetix300', 'name': 'Kinetix3001', 'operatingSystem': 'Rockwell Automation/Allen-Bradley OS', 'operatingSystemVersion': '1.083', 'riskLevel': 4, 'sensor': {'name': 'ICS_Switch', 'type': 'Switch'}, 'site': {'location': 'Austin, TX', 'name': 'TX Manufacturing Center'}, 'tags': ['ICS'], 'type': 'Plc', 'user': '', 'visibility': 'Full'}, {'accessSwitch': 'N/A', 'category': 'Manufacturing', 'firstSeen': '2020-08-30T01:45:30.089640', 'id': 502, 'ipAddress': '10.20.80.96', 'lastSeen': '2020-09-13T05:45:55.280025', 'macAddress': '97:34:de:01:c8:ba', 'manufacturer': 'Rockwell Automation', 'model': '1756-L73S/B LOGIX5573SAFETY', 'name': '1756-L73S/B LOGIX5573SAFETY', 'operatingSystem': 'Rockwell Automation/Allen-Bradley OS', 'operatingSystemVersion': '5.015', 'riskLevel': 2, 'sensor': {'name': 'ICS_Switch', 'type': 'Switch'}, 'site': {'location': 'Austin, TX', 'name': 'TX Manufacturing Center'}, 'tags': ['ICS'], 'type': 'Plc', 'user': '', 'visibility': 'Full'}, {'accessSwitch': 'N/A', 'category': 'Manufacturing', 'firstSeen': '2020-08-30T01:45:30.089640', 'id': 503, 'ipAddress': '10.20.80.125', 'lastSeen': '2020-09-13T05:45:54.704071', 'macAddress': 'ce:b2:bf:c8:ad:61', 'manufacturer': 'Rockwell Automation', 'model': '1756-L61/B LOGIX5561', 'name': '1756-L61/B LOGIX5561', 'operatingSystem': 'Rockwell Automation/Allen-Bradley OS', 'operatingSystemVersion': '20.013', 'riskLevel': 6, 'sensor': {'name': 'ICS_Switch', 'type': 'Switch'}, 'site': {'location': 'Austin, TX', 'name': 'TX Manufacturing Center'}, 'tags': ['VxWorks-5.5', 'Serial Number=0x3cdf8a', 'ICS', 'Corporate', 'ICS-CERT:ICSA-16-343-05'], 'type': 'Plc', 'user': '', 'visibility': 'Full'}, {'accessSwitch': 'N/A', 'category': 'Manufacturing', 'firstSeen': '2020-08-30T01:45:30.089640', 'id': 504, 'ipAddress': '10.20.80.97', 'lastSeen': '2020-09-13T05:45:55.280025', 'macAddress': '1a:8c:3c:9e:f0:25', 'manufacturer': 'Rockwell Automation', 'model': '1734-AENTR/B Ethernet Adapter', 'name': '1734-AENTR/B Ethernet Adapter', 'operatingSystem': 'Rockwell Automation/Allen-Bradley OS', 'operatingSystemVersion': '5.015', 'riskLevel': 2, 'sensor': {'name': 'ICS_Switch', 'type': 'Switch'}, 'site': {'location': 'Austin, TX', 'name': 'TX Manufacturing Center'}, 'tags': ['ICS'], 'type': 'Plc', 'user': '', 'visibility': 'Full'}, {'accessSwitch': 'N/A', 'category': 'Manufacturing', 'firstSeen': '2020-08-30T01:45:30.089640', 'id': 505, 'ipAddress': '10.20.80.185', 'lastSeen': '2020-09-13T05:45:54.736233', 'macAddress': '61:f0:cc:aa:95:2e', 'manufacturer': 'Rockwell Automation', 'model': '1769-L32E/A LOGIX5332E', 'name': '1769-L32E/A LOGIX5332E3', 'operatingSystem': 'Rockwell Automation/Allen-Bradley OS', 'operatingSystemVersion': '20.013', 'riskLevel': 9, 'sensor': {'name': 'ICS_Switch', 'type': 'Switch'}, 'site': {'location': 'Austin, TX', 'name': 'TX Manufacturing Center'}, 'tags': ['VxWorks', 'ICS', 'CMDB', 'ICS-CERT:ICSA-13-011-03', 'ICS-CERT:ICSA-16-343-05', 'CMDB line=xxx', 'ICS-CERT:ICSA-19-211-01', 'Serial Number=0x41808e'], 'type': 'Plc', 'user': '', 'visibility': 'Full'}, {'accessSwitch': 'N/A', 'category': 'Manufacturing', 'firstSeen': '2020-08-30T01:45:30.089640', 'id': 506, 'ipAddress': '10.20.80.240', 'lastSeen': '2020-09-13T05:45:55.280025', 'macAddress': 'ea:d8:ab:13:6b:7f', 'manufacturer': 'Rockwell Automation', 'model': '1756-L81E/B', 'name': '1756-L81E/B3', 'operatingSystem': 'Rockwell Automation/Allen-Bradley OS', 'operatingSystemVersion': '20.013', 'riskLevel': 9, 'sensor': {'name': 'ICS_Switch', 'type': 'Switch'}, 'site': {'location': 'Austin, TX', 'name': 'TX Manufacturing Center'}, 'tags': ['ICS-CERT:ICSA-19-211-01', 'ICS', 'ICS-CERT:ICSA-16-343-05', 'Serial Number=0xf45a1f'], 'type': 'Plc', 'user': '', 'visibility': 'Full'}, {'accessSwitch': 'N/A', 'category': 'Manufacturing', 'firstSeen': '2020-08-30T01:45:30.089640', 'id': 507, 'ipAddress': '10.20.80.90', 'lastSeen': '2020-09-13T05:45:55.291074', 'macAddress': '2b:95:64:dc:a7:8e', 'manufacturer': 'Rockwell Automation', 'model': '1756-L81E/B', 'name': '1756-L81E/B4', 'operatingSystem': 'Rockwell Automation/Allen-Bradley OS', 'operatingSystemVersion': '31.011', 'riskLevel': 9, 'sensor': {'name': 'ICS_Switch', 'type': 'Switch'}, 'site': {'location': 'Austin, TX', 'name': 'TX Manufacturing Center'}, 'tags': ['ICS-CERT:ICSA-19-211-01', 'ICS', 'ICS-CERT:ICSA-16-343-05', 'Serial Number=0xf45a1f'], 'type': 'Plc', 'user': '', 'visibility': 'Full'}, {'accessSwitch': 'N/A', 'category': 'Manufacturing', 'firstSeen': '2020-08-30T01:45:30.089640', 'id': 508, 'ipAddress': '10.20.80.245', 'lastSeen': '2020-09-13T05:45:55.280025', 'macAddress': '10:53:7e:f8:eb:6a', 'manufacturer': 'Rockwell Automation', 'model': '1769-L32E/A LOGIX5332E', 'name': '1769-L32E/A LOGIX5332E4', 'operatingSystem': 'Rockwell Automation/Allen-Bradley OS', 'operatingSystemVersion': '20.013', 'riskLevel': 9, 'sensor': {'name': 'ICS_Switch', 'type': 'Switch'}, 'site': {'location': 'Austin, TX', 'name': 'TX Manufacturing Center'}, 'tags': ['Serial Number=0xf45a1f', 'ICS', 'ICS-CERT:ICSA-19-211-01', 'ICS-CERT:ICSA-16-343-05'], 'type': 'Plc', 'user': '', 'visibility': 'Full'}, {'accessSwitch': 'N/A', 'category': 'Manufacturing', 'firstSeen': '2020-08-30T01:45:30.089640', 'id': 509, 'ipAddress': '10.20.80.85', 'lastSeen': '2020-09-13T05:45:55.291074', 'macAddress': '9f:b6:d8:f4:cd:aa', 'manufacturer': 'Rockwell Automation', 'model': '1769-L32E/A LOGIX5332E', 'name': '1769-L32E/A LOGIX5332E5', 'operatingSystem': 'Rockwell Automation/Allen-Bradley OS', 'operatingSystemVersion': '20.013', 'riskLevel': 9, 'sensor': {'name': 'ICS_Switch', 'type': 'Switch'}, 'site': {'location': 'Austin, TX', 'name': 'TX Manufacturing Center'}, 'tags': ['ICS', 'Serial Number=0x4092bf', 'VxWorks', 'ICS-CERT:ICSA-13-011-03', 'ICS-CERT:ICSA-16-343-05', 'ICS-CERT:ICSA-19-211-01'], 'type': 'Plc', 'user': '', 'visibility': 'Full'}, {'accessSwitch': 'N/A', 'category': 'Manufacturing', 'firstSeen': '2020-08-30T01:45:30.089640', 'id': 510, 'ipAddress': '10.20.80.195', 'lastSeen': '2020-09-13T05:45:55.291074', 'macAddress': 'e2:1f:da:03:ac:fe', 'manufacturer': 'Rockwell Automation', 'model': '1769-L32E/A LOGIX5332E', 'name': '1769-L32E/A LOGIX5332E6', 'operatingSystem': 'Rockwell Automation/Allen-Bradley OS', 'operatingSystemVersion': '20.013', 'riskLevel': 9, 'sensor': {'name': 'ICS_Switch', 'type': 'Switch'}, 'site': {'location': 'Austin, TX', 'name': 'TX Manufacturing Center'}, 'tags': ['ICS', 'Serial Number=0x1a24baf1', 'VxWorks', 'ICS-CERT:ICSA-13-011-03', 'ICS-CERT:ICSA-16-343-05', 'ICS-CERT:ICSA-19-211-01'], 'type': 'Plc', 'user': '', 'visibility': 'Full'}, {'accessSwitch': 'N/A', 'category': 'Manufacturing', 'firstSeen': '2020-08-30T01:45:30.089640', 'id': 511, 'ipAddress': '10.20.80.188', 'lastSeen': '2020-09-13T05:45:54.835350', 'macAddress': '96:84:b0:d7:3e:51', 'manufacturer': 'AC Tech corporation DBA Advanced Digital', 'model': 'Kinetix300', 'name': 'Kinetix3002', 'operatingSystem': 'Rockwell Automation/Allen-Bradley OS', 'operatingSystemVersion': '1.083', 'riskLevel': 4, 'sensor': {'name': 'ICS_Switch', 'type': 'Switch'}, 'site': {'location': 'Austin, TX', 'name': 'TX Manufacturing Center'}, 'tags': ['ICS'], 'type': 'Plc', 'user': '', 'visibility': 'Full'}, {'accessSwitch': 'N/A', 'category': 'Manufacturing', 'firstSeen': '2020-08-30T01:45:30.089640', 'id': 512, 'ipAddress': '10.20.80.117', 'lastSeen': '2020-09-13T05:45:54.847276', 'macAddress': 'e6:4c:bb:df:d9:a3', 'manufacturer': 'Rockwell Automation', 'model': '1769-L16ER/A LOGIX5316ER', 'name': '1769-L16ER/A LOGIX5316ER', 'operatingSystem': 'Rockwell Automation/Allen-Bradley OS', 'operatingSystemVersion': '20.012', 'riskLevel': 9, 'sensor': {'name': 'ICS_Switch', 'type': 'Switch'}, 'site': {'location': 'Austin, TX', 'name': 'TX Manufacturing Center'}, 'tags': ['ICS-CERT:ICSA-19-211-01', 'ICS'], 'type': 'Plc', 'user': '', 'visibility': 'Full'}, {'accessSwitch': 'N/A', 'category': 'Manufacturing', 'firstSeen': '2020-08-30T01:45:30.089640', 'id': 513, 'ipAddress': '10.20.80.238', 'lastSeen': '2020-09-13T05:45:55.280025', 'macAddress': 'ba:7a:1f:6f:e9:25', 'manufacturer': 'AC Tech corporation DBA Advanced Digital', 'model': 'Kinetix300', 'name': 'Kinetix3003', 'operatingSystem': 'Rockwell Automation/Allen-Bradley OS', 'operatingSystemVersion': '1.082', 'riskLevel': 4, 'sensor': {'name': 'ICS_Switch', 'type': 'Switch'}, 'site': {'location': 'Austin, TX', 'name': 'TX Manufacturing Center'}, 'tags': ['ICS'], 'type': 'Plc', 'user': '', 'visibility': 'Full'}, {'accessSwitch': 'N/A', 'category': 'Manufacturing', 'firstSeen': '2020-08-30T01:45:30.089640', 'id': 514, 'ipAddress': '10.20.80.116', 'lastSeen': '2020-09-13T05:45:54.871239', 'macAddress': 'ac:06:eb:7d:b3:52', 'manufacturer': 'Rockwell Automation', 'model': '1769-L16ER/A LOGIX5316ER', 'name': '1769-L16ER/A LOGIX5316ER2', 'operatingSystem': 'Rockwell Automation/Allen-Bradley OS', 'operatingSystemVersion': '20.012', 'riskLevel': 9, 'sensor': {'name': 'ICS_Switch', 'type': 'Switch'}, 'site': {'location': 'Austin, TX', 'name': 'TX Manufacturing Center'}, 'tags': ['ICS', 'ICS-CERT:ICSA-19-211-01'], 'type': 'Plc', 'user': '', 'visibility': 'Full'}, {'accessSwitch': 'N/A', 'category': 'Manufacturing', 'firstSeen': '2020-08-30T01:45:30.089640', 'id': 515, 'ipAddress': '10.20.80.90', 'lastSeen': '2020-09-13T05:45:55.291074', 'macAddress': '9e:4d:35:f1:e7:af', 'manufacturer': 'Rockwell Automation', 'model': '1756-L81E/B', 'name': '1756-L81E/B4', 'operatingSystem': 'Rockwell Automation/Allen-Bradley OS', 'operatingSystemVersion': '31.011', 'riskLevel': 9, 'sensor': {'name': 'ICS_Switch', 'type': 'Switch'}, 'site': {'location': 'Austin, TX', 'name': 'TX Manufacturing Center'}, 'tags': ['Serial Number=0xfa8210', 'ICS', 'ICS-CERT:ICSA-16-343-05', 'ICS-CERT:ICSA-13-011-03', 'ICS-CERT:ICSA-19-211-01'], 'type': 'Plc', 'user': '', 'visibility': 'Full'}, {'accessSwitch': 'N/A', 'category': 'Manufacturing', 'firstSeen': '2020-08-30T01:45:30.089640', 'id': 516, 'ipAddress': '10.20.80.128', 'lastSeen': '2020-09-13T05:45:55.085286', 'macAddress': 'f9:41:02:de:6a:fb', 'manufacturer': 'Rockwell Automation', 'model': '1769-L32E/A LOGIX5332E', 'name': '1769-L32E/A LOGIX5332E7', 'operatingSystem': 'Rockwell Automation/Allen-Bradley OS', 'operatingSystemVersion': '20.013', 'riskLevel': 9, 'sensor': {'name': 'ICS_Switch', 'type': 'Switch'}, 'site': {'location': 'Austin, TX', 'name': 'TX Manufacturing Center'}, 'tags': ['VxWorks-5.5', 'ICS-CERT:ICSA-16-343-05', 'ICS', 'ICS-CERT:ICSA-19-211-01', 'ICS-CERT:ICSA-13-011-03', 'Serial Number=0x418080'], 'type': 'Plc', 'user': '', 'visibility': 'Full'}, {'accessSwitch': 'N/A', 'category': 'Manufacturing', 'firstSeen': '2020-08-30T01:45:30.089640', 'id': 517, 'ipAddress': '192.168.5.103', 'lastSeen': '2020-09-13T05:45:54.919035', 'macAddress': '58:49:61:7a:ef:ad', 'manufacturer': 'Keyence Corporation', 'model': 'IV-HG Series', 'name': 'IV-HG Series PLC', 'operatingSystem': 'Android', 'operatingSystemVersion': '5.2', 'riskLevel': 7, 'sensor': {'name': 'ICS_Switch', 'type': 'Switch'}, 'site': {'location': 'Austin, TX', 'name': 'TX Manufacturing Center'}, 'tags': ['ICS'], 'type': 'Plc', 'user': '', 'visibility': 'Full'}, {'accessSwitch': 'N/A', 'category': 'Manufacturing', 'firstSeen': '2020-08-30T01:45:30.089640', 'id': 518, 'ipAddress': '192.168.3.188', 'lastSeen': '2020-09-13T05:45:54.930010', 'macAddress': '40:e6:dc:51:a2:9a', 'manufacturer': 'Cognex Corporation', 'model': 'In-Sight 7800', 'name': 'In-Sight 7800 PLC', 'operatingSystem': 'Cognex_OS', 'operatingSystemVersion': '4.6.rd', 'riskLevel': 7, 'sensor': {'name': 'ICS_Switch', 'type': 'Switch'}, 'site': {'location': 'Austin, TX', 'name': 'TX Manufacturing Center'}, 'tags': ['ICS'], 'type': 'Plc', 'user': '', 'visibility': 'Full'}, {'accessSwitch': 'N/A', 'category': 'Manufacturing', 'firstSeen': '2020-08-30T01:45:30.089640', 'id': 519, 'ipAddress': '192.168.1.173', 'lastSeen': '2020-09-13T05:45:54.941339', 'macAddress': 'f4:0d:95:6e:fa:8c', 'manufacturer': 'Festo', 'model': 'CPX-FB36 Remote I/O', 'name': 'CPX-FB36 Remote I/O PLC', 'operatingSystem': 'Festo_OS', 'operatingSystemVersion': '19.2', 'riskLevel': 7, 'sensor': {'name': 'ICS_Switch', 'type': 'Switch'}, 'site': {'location': 'Austin, TX', 'name': 'TX Manufacturing Center'}, 'tags': ['ICS'], 'type': 'Plc', 'user': '', 'visibility': 'Full'}, {'accessSwitch': 'N/A', 'category': 'Manufacturing', 'firstSeen': '2020-08-30T01:45:30.089640', 'id': 520, 'ipAddress': '192.168.8.81', 'lastSeen': '2020-09-13T05:45:54.952305', 'macAddress': '02:fe:be:97:5d:a3', 'manufacturer': 'Hewlett Packard', 'model': 'HMI 7', 'name': 'Hewlett Packard HMI 0K2', 'operatingSystem': 'Windows', 'operatingSystemVersion': 'Server 2003', 'riskLevel': 7, 'sensor': {'name': 'ICS_Switch', 'type': 'Switch'}, 'site': {'location': 'Austin, TX', 'name': 'TX Manufacturing Center'}, 'tags': ['ICS'], 'type': 'Hmi Panel', 'user': '', 'visibility': 'Full'}, {'accessSwitch': 'N/A', 'category': 'Instruments', 'firstSeen': '2020-08-30T01:45:30.089640', 'id': 521, 'ipAddress': '192.168.2.209', 'lastSeen': '2020-09-13T05:45:54.963350', 'macAddress': '4d:1f:c2:96:e3:5a', 'manufacturer': 'Particle Measuring Systems', 'model': 'HUltraChem 100 Liquid Particle Counter', 'name': 'Ultrachem Particle Counter', 'operatingSystem': 'PMSS_OS', 'operatingSystemVersion': '6.2', 'riskLevel': 7, 'sensor': {'name': 'ICS_Switch', 'type': 'Switch'}, 'site': {'location': 'Austin, TX', 'name': 'TX Manufacturing Center'}, 'tags': ['ICS'], 'type': 'Measuring', 'user': '', 'visibility': 'Full'}, {'accessSwitch': 'N/A', 'category': 'Manufacturing', 'firstSeen': '2020-08-30T01:45:30.089640', 'id': 522, 'ipAddress': '192.168.9.104', 'lastSeen': '2020-09-13T05:45:54.974322', 'macAddress': 'b0:92:cd:d1:be:5f', 'manufacturer': 'FactoryTalk', 'model': 'Server 2483', 'name': 'FactoryTalk 2483 HMI', 'operatingSystem': 'Windows', 'operatingSystemVersion': '7', 'riskLevel': 7, 'sensor': {'name': 'ICS_Switch', 'type': 'Switch'}, 'site': {'location': 'Austin, TX', 'name': 'TX Manufacturing Center'}, 'tags': ['ICS'], 'type': 'Hmi Panel', 'user': '', 'visibility': 'Full'}, {'accessSwitch': 'N/A', 'category': 'Automation', 'firstSeen': '2020-08-30T01:45:30.089640', 'id': 523, 'ipAddress': '192.168.3.105', 'lastSeen': '2020-09-13T05:45:54.985232', 'macAddress': 'fd:a1:c8:0d:5f:9e', 'manufacturer': 'Mercury Security Corporation', 'model': 'Access Control Platform', 'name': 'Access Control Platform', 'operatingSystem': 'Windows', 'operatingSystemVersion': '10', 'riskLevel': 7, 'sensor': {'name': 'ICS_Switch', 'type': 'Switch'}, 'site': {'location': 'Austin, TX', 'name': 'TX Manufacturing Center'}, 'tags': ['ICS'], 'type': 'Security', 'user': '', 'visibility': 'Full'}, {'accessSwitch': 'N/A', 'category': 'Automation', 'firstSeen': '2020-08-30T01:45:30.089640', 'id': 524, 'ipAddress': '192.168.8.231', 'lastSeen': '2020-09-13T05:45:54.996492', 'macAddress': 'db:ab:1d:64:e8:5c', 'manufacturer': 'Mercury Security Corporation', 'model': 'Access Control Platform', 'name': 'Access Control Platform', 'operatingSystem': 'Windows', 'operatingSystemVersion': '10', 'riskLevel': 7, 'sensor': {'name': 'ICS_Switch', 'type': 'Switch'}, 'site': {'location': 'Austin, TX', 'name': 'TX Manufacturing Center'}, 'tags': ['ICS'], 'type': 'Security', 'user': '', 'visibility': 'Full'}, {'accessSwitch': 'N/A', 'category': 'Manufacturing', 'firstSeen': '2020-08-30T01:45:30.089640', 'id': 525, 'ipAddress': '192.168.40.21', 'lastSeen': '2020-09-13T05:45:55.007375', 'macAddress': 'ec:d8:5b:fb:16:79', 'manufacturer': 'Siemens AG,', 'model': 'HMI Client', 'name': 'HMICLNT1', 'operatingSystem': 'Windows', 'operatingSystemVersion': 'XP', 'riskLevel': 7, 'sensor': {'name': 'ICS_Switch', 'type': 'Switch'}, 'site': {'location': 'Austin, TX', 'name': 'TX Manufacturing Center'}, 'tags': ['ICS'], 'type': 'Hmi Panel', 'user': '', 'visibility': 'Full'}, {'accessSwitch': 'N/A', 'category': 'Computer', 'firstSeen': '2020-08-30T01:45:30.089640', 'id': 526, 'ipAddress': '192.168.40.22', 'lastSeen': '2020-09-13T05:45:55.018311', 'macAddress': '76:a4:12:c8:0d:5e', 'manufacturer': 'VMware, Inc', 'model': 'HMI Server', 'name': 'HMISERV1', 'operatingSystem': 'Windows', 'operatingSystemVersion': '7', 'riskLevel': 5, 'sensor': {'name': 'ICS_Switch', 'type': 'Switch'}, 'site': {'location': 'Austin, TX', 'name': 'TX Manufacturing Center'}, 'tags': ['ICS'], 'type': 'Virtual Machine', 'user': '', 'visibility': 'Full'}, {'accessSwitch': 'N/A', 'category': 'Manufacturing', 'firstSeen': '2020-08-30T01:45:30.089640', 'id': 527, 'ipAddress': '10.15.32.81', 'lastSeen': '2020-09-13T05:45:54.784991', 'macAddress': 'cf:8e:b6:9d:35:ac', 'manufacturer': 'HMS Industrial Networks', 'model': 'HMS device', 'name': 'HMS device1', 'operatingSystem': None, 'operatingSystemVersion': None, 'riskLevel': 4, 'sensor': {'name': 'ICS_Switch', 'type': 'Switch'}, 'site': {'location': 'Austin, TX', 'name': 'TX Manufacturing Center'}, 'tags': ['ICS'], 'type': 'Io', 'user': '', 'visibility': 'Full'}, {'accessSwitch': 'N/A', 'category': 'Manufacturing', 'firstSeen': '2020-08-30T01:45:30.089640', 'id': 528, 'ipAddress': '10.15.32.82', 'lastSeen': '2020-09-13T05:45:54.592512', 'macAddress': '1c:b0:e4:3a:65:8f', 'manufacturer': 'HMS Industrial Networks', 'model': 'HMS device', 'name': 'HMS device2', 'operatingSystem': None, 'operatingSystemVersion': None, 'riskLevel': 4, 'sensor': {'name': 'ICS_Switch', 'type': 'Switch'}, 'site': {'location': 'Austin, TX', 'name': 'TX Manufacturing Center'}, 'tags': ['ICS'], 'type': 'Io', 'user': '', 'visibility': 'Full'}, {'accessSwitch': 'N/A', 'category': 'Manufacturing', 'firstSeen': '2020-08-30T01:45:30.089640', 'id': 529, 'ipAddress': '10.15.32.83', 'lastSeen': '2020-09-13T05:45:54.784991', 'macAddress': '0b:f6:5a:cf:7e:1a', 'manufacturer': 'HMS Industrial Networks', 'model': 'HMS device', 'name': 'HMS device3', 'operatingSystem': None, 'operatingSystemVersion': None, 'riskLevel': 4, 'sensor': {'name': 'ICS_Switch', 'type': 'Switch'}, 'site': {'location': 'Austin, TX', 'name': 'TX Manufacturing Center'}, 'tags': ['ICS'], 'type': 'Io', 'user': '', 'visibility': 'Full'}, {'accessSwitch': 'N/A', 'category': 'Manufacturing', 'firstSeen': '2020-08-30T01:45:30.089640', 'id': 530, 'ipAddress': '10.15.32.84', 'lastSeen': '2020-09-13T05:45:54.784991', 'macAddress': '14:c0:2a:ca:39:5b', 'manufacturer': 'HMS Industrial Networks', 'model': 'HMS device', 'name': 'HMS device4', 'operatingSystem': None, 'operatingSystemVersion': None, 'riskLevel': 4, 'sensor': {'name': 'ICS_Switch', 'type': 'Switch'}, 'site': {'location': 'Austin, TX', 'name': 'TX Manufacturing Center'}, 'tags': ['ICS'], 'type': 'Io', 'user': '', 'visibility': 'Full'}, {'accessSwitch': 'N/A', 'category': 'Manufacturing', 'firstSeen': '2020-08-30T01:45:30.089640', 'id': 531, 'ipAddress': '10.20.80.151', 'lastSeen': '2020-09-13T05:45:55.291074', 'macAddress': '5f:80:ea:7b:4d:a3', 'manufacturer': 'Elau Ag', 'model': 'C600', 'name': 'C600-1', 'operatingSystem': None, 'operatingSystemVersion': None, 'riskLevel': 4, 'sensor': {'name': 'ICS_Switch', 'type': 'Switch'}, 'site': {'location': 'Austin, TX', 'name': 'TX Manufacturing Center'}, 'tags': ['ICS'], 'type': 'Controller', 'user': '', 'visibility': 'Full'}, {'accessSwitch': 'N/A', 'category': 'Manufacturing', 'firstSeen': '2020-08-30T01:45:30.089640', 'id': 532, 'ipAddress': '10.20.80.131', 'lastSeen': '2020-09-13T05:45:55.085286', 'macAddress': 'e0:dc:ac:2e:7d:f4', 'manufacturer': 'VMware', 'model': 'VMware device', 'name': 'SWUSMTOCDEV2', 'operatingSystem': 'Windows', 'operatingSystemVersion': '10', 'riskLevel': 7, 'sensor': {'name': 'ICS_Switch', 'type': 'Switch'}, 'site': {'location': 'Austin, TX', 'name': 'TX Manufacturing Center'}, 'tags': ['ICS', 'Suspended'], 'type': 'Engineering Workstation', 'user': '', 'visibility': 'Full'}, {'accessSwitch': 'N/A', 'category': 'Manufacturing', 'firstSeen': '2020-08-30T01:45:30.089640', 'id': 533, 'ipAddress': '10.20.80.130', 'lastSeen': '2020-09-13T05:45:55.099511', 'macAddress': 'fa:e3:dd:20:e9:1c', 'manufacturer': 'VMware', 'model': 'VMware device', 'name': 'SWUSMTOCDEV1', 'operatingSystem': 'Windows', 'operatingSystemVersion': '10', 'riskLevel': 9, 'sensor': {'name': 'ICS_Switch', 'type': 'Switch'}, 'site': {'location': 'Austin, TX', 'name': 'TX Manufacturing Center'}, 'tags': ['ICS'], 'type': 'Engineering Workstation', 'user': '', 'visibility': 'Full'}, {'accessSwitch': 'N/A', 'category': 'Manufacturing', 'firstSeen': '2020-08-30T01:45:30.089640', 'id': 535, 'ipAddress': '10.20.80.36', 'lastSeen': '2020-09-13T05:45:55.116004', 'macAddress': '49:cb:3c:bd:fa:7f', 'manufacturer': 'VMware', 'model': 'VMware device', 'name': 'SWUSMT36A', 'operatingSystem': 'Windows', 'operatingSystemVersion': '8.1', 'riskLevel': 5, 'sensor': {'name': 'ICS_Switch', 'type': 'Switch'}, 'site': {'location': 'Austin, TX', 'name': 'TX Manufacturing Center'}, 'tags': ['ICS'], 'type': 'Historian', 'user': '', 'visibility': 'Full'}, {'accessSwitch': 'N/A', 'category': 'Manufacturing', 'firstSeen': '2020-08-30T01:45:30.089640', 'id': 536, 'ipAddress': '10.20.80.127', 'lastSeen': '2020-09-13T05:45:55.128335', 'macAddress': 'df:0c:c7:be:df:13', 'manufacturer': 'Rockwell Automation', 'model': 'PanelView Plus_6 700', 'name': 'PanelView Plus_6 700', 'operatingSystem': 'Windows CE', 'operatingSystemVersion': '6', 'riskLevel': 9, 'sensor': {'name': 'ICS_Switch', 'type': 'Switch'}, 'site': {'location': 'Austin, TX', 'name': 'TX Manufacturing Center'}, 'tags': ['ICS', 'Firmware Version:3.001'], 'type': 'Hmi Panel', 'user': '', 'visibility': 'Full'}, {'accessSwitch': 'N/A', 'category': 'Manufacturing', 'firstSeen': '2020-08-30T01:45:30.089640', 'id': 537, 'ipAddress': '10.20.81.251', 'lastSeen': '2020-09-13T05:45:55.139654', 'macAddress': '0b:12:7c:af:5d:d9', 'manufacturer': 'FANUC ROBOTICS NORTH AMERICA', 'model': 'FANUC device', 'name': 'FANUC device1', 'operatingSystem': None, 'operatingSystemVersion': None, 'riskLevel': 4, 'sensor': {'name': 'ICS_Switch', 'type': 'Switch'}, 'site': {'location': 'Austin, TX', 'name': 'TX Manufacturing Center'}, 'tags': ['ICS'], 'type': 'Industrial Robot', 'user': '', 'visibility': 'Full'}, {'accessSwitch': 'N/A', 'category': 'Manufacturing', 'firstSeen': '2020-08-30T01:45:30.089640', 'id': 538, 'ipAddress': '10.20.81.250', 'lastSeen': '2020-09-13T05:45:55.150649', 'macAddress': 'f3:e1:d0:ab:86:5c', 'manufacturer': 'FANUC ROBOTICS NORTH AMERICA', 'model': 'FANUC device', 'name': 'FANUC device2', 'operatingSystem': None, 'operatingSystemVersion': None, 'riskLevel': 4, 'sensor': {'name': 'ICS_Switch', 'type': 'Switch'}, 'site': {'location': 'Austin, TX', 'name': 'TX Manufacturing Center'}, 'tags': ['ICS'], 'type': 'Industrial Robot', 'user': '', 'visibility': 'Full'}, {'accessSwitch': 'N/A', 'category': 'Automation', 'firstSeen': '2020-08-30T01:45:30.089640', 'id': 539, 'ipAddress': '10.20.80.91', 'lastSeen': '2020-09-13T05:45:55.162627', 'macAddress': 'ed:02:d8:6b:cb:ea', 'manufacturer': 'Lantronix', 'model': 'Lantronix device', 'name': 'Lantronix device', 'operatingSystem': None, 'operatingSystemVersion': None, 'riskLevel': 6, 'sensor': {'name': 'ICS_Switch', 'type': 'Switch'}, 'site': {'location': 'Austin, TX', 'name': 'TX Manufacturing Center'}, 'tags': ['ICS', 'Corporate'], 'type': 'Iot Gateway', 'user': '', 'visibility': 'Full'}, {'accessSwitch': 'N/A', 'category': 'Automation', 'firstSeen': '2020-08-30T01:45:30.089640', 'id': 540, 'ipAddress': '10.20.80.146', 'lastSeen': '2020-09-13T05:45:55.174917', 'macAddress': '8e:c2:16:af:ec:bf', 'manufacturer': 'Lantronix', 'model': 'Lantronix device', 'name': 'Lantronix device2', 'operatingSystem': None, 'operatingSystemVersion': None, 'riskLevel': 6, 'sensor': {'name': 'ICS_Switch', 'type': 'Switch'}, 'site': {'location': 'Austin, TX', 'name': 'TX Manufacturing Center'}, 'tags': ['ICS', 'Corporate'], 'type': 'Iot Gateway', 'user': '', 'visibility': 'Full'}, {'accessSwitch': 'N/A', 'category': 'Automation', 'firstSeen': '2020-08-30T01:45:30.089640', 'id': 541, 'ipAddress': '10.20.80.147', 'lastSeen': '2020-09-13T05:45:55.187127', 'macAddress': 'b4:e7:f6:0a:af:ed', 'manufacturer': 'Lantronix', 'model': 'Lantronix device', 'name': 'Lantronix device3', 'operatingSystem': None, 'operatingSystemVersion': None, 'riskLevel': 6, 'sensor': {'name': 'ICS_Switch', 'type': 'Switch'}, 'site': {'location': 'Austin, TX', 'name': 'TX Manufacturing Center'}, 'tags': ['ICS', 'Corporate'], 'type': 'Iot Gateway', 'user': '', 'visibility': 'Full'}, {'accessSwitch': 'N/A', 'category': 'Network', 'firstSeen': '2020-08-30T01:45:30.089640', 'id': 542, 'ipAddress': '10.20.80.1', 'lastSeen': '2020-09-13T05:45:55.199391', 'macAddress': 'e3:da:6c:b1:ef:fc', 'manufacturer': 'Cisco', 'model': 'Cisco device', 'name': 'Cisco device', 'operatingSystem': None, 'operatingSystemVersion': None, 'riskLevel': 4, 'sensor': {'name': 'ICS_Switch', 'type': 'Switch'}, 'site': {'location': 'Austin, TX', 'name': 'TX Manufacturing Center'}, 'tags': ['ICS', 'Corporate'], 'type': 'Router', 'user': '', 'visibility': 'Full'}, {'accessSwitch': 'N/A', 'category': 'Network', 'firstSeen': '2020-08-30T01:45:30.089640', 'id': 543, 'ipAddress': '10.20.80.204', 'lastSeen': '2020-09-13T05:45:55.212064', 'macAddress': '3e:89:cb:ce:4d:1a', 'manufacturer': 'Cisco', 'model': 'Catalyst 4500', 'name': 'Catalyst 45001', 'operatingSystem': 'Cisco IOS', 'operatingSystemVersion': '16.6.5', 'riskLevel': 4, 'sensor': {'name': 'ICS_Switch', 'type': 'Switch'}, 'site': {'location': 'Austin, TX', 'name': 'TX Manufacturing Center'}, 'tags': ['ICS', 'Corporate'], 'type': 'Router', 'user': '', 'visibility': 'Full'}, {'accessSwitch': 'N/A', 'category': 'Network', 'firstSeen': '2020-08-30T01:45:30.089640', 'id': 544, 'ipAddress': '10.20.80.208', 'lastSeen': '2020-09-13T05:45:55.224602', 'macAddress': '8e:cd:56:a9:ea:fb', 'manufacturer': 'Cisco', 'model': 'Catalyst 4500', 'name': 'Catalyst 45002', 'operatingSystem': 'Cisco IOS', 'operatingSystemVersion': '16.6.5', 'riskLevel': 3, 'sensor': {'name': 'ICS_Switch', 'type': 'Switch'}, 'site': {'location': 'Austin, TX', 'name': 'TX Manufacturing Center'}, 'tags': ['ICS', 'Corporate'], 'type': 'Router', 'user': '', 'visibility': 'Full'}, {'accessSwitch': 'N/A', 'category': 'Manufacturing', 'firstSeen': '2020-08-30T01:45:30.089640', 'id': 545, 'ipAddress': '10.20.80.38', 'lastSeen': '2020-09-13T05:45:55.291074', 'macAddress': 'c8:de:67:03:95:ed', 'manufacturer': 'VMware', 'model': 'VMware device', 'name': 'scdclnt3', 'operatingSystem': 'Windows', 'operatingSystemVersion': '8.1', 'riskLevel': 3, 'sensor': {'name': 'ICS_Switch', 'type': 'Switch'}, 'site': {'location': 'Austin, TX', 'name': 'TX Manufacturing Center'}, 'tags': ['ICS'], 'type': 'Scada Client', 'user': '', 'visibility': 'Full'}, {'accessSwitch': 'N/A', 'category': 'Manufacturing', 'firstSeen': '2020-08-30T01:45:30.089640', 'id': 546, 'ipAddress': '10.20.80.140', 'lastSeen': '2020-09-13T05:45:55.280025', 'macAddress': '37:b4:fe:06:2d:ac', 'manufacturer': 'VMware', 'model': 'VMware device', 'name': 'scdclnt4', 'operatingSystem': 'Windows', 'operatingSystemVersion': '8.1', 'riskLevel': 3, 'sensor': {'name': 'ICS_Switch', 'type': 'Switch'}, 'site': {'location': 'Austin, TX', 'name': 'TX Manufacturing Center'}, 'tags': ['ICS'], 'type': 'Scada Client', 'user': '', 'visibility': 'Full'}, {'accessSwitch': 'N/A', 'category': 'Manufacturing', 'firstSeen': '2020-08-30T01:45:30.089640', 'id': 547, 'ipAddress': '10.20.80.145', 'lastSeen': '2020-09-13T05:45:55.269088', 'macAddress': 'ad:bc:45:ed:cf:1f', 'manufacturer': 'VMware', 'model': 'VMware device', 'name': 'scdclnt5', 'operatingSystem': 'Windows', 'operatingSystemVersion': '8.1', 'riskLevel': 3, 'sensor': {'name': 'ICS_Switch', 'type': 'Switch'}, 'site': {'location': 'Austin, TX', 'name': 'TX Manufacturing Center'}, 'tags': ['ICS'], 'type': 'Scada Client', 'user': '', 'visibility': 'Full'}, {'accessSwitch': 'N/A', 'category': 'Manufacturing', 'firstSeen': '2020-08-30T01:45:30.089640', 'id': 548, 'ipAddress': '10.20.80.135', 'lastSeen': '2020-09-13T05:45:55.269088', 'macAddress': '6f:ad:a0:3b:cc:79', 'manufacturer': 'VMware', 'model': 'VMware device', 'name': 'SWUSMTOCIOE1', 'operatingSystem': 'Windows', 'operatingSystemVersion': '10', 'riskLevel': 5, 'sensor': {'name': 'ICS_Switch', 'type': 'Switch'}, 'site': {'location': 'Austin, TX', 'name': 'TX Manufacturing Center'}, 'tags': ['ICS'], 'type': 'Scada Server', 'user': '', 'visibility': 'Full'}, {'accessSwitch': 'N/A', 'category': 'Manufacturing', 'firstSeen': '2020-08-30T01:45:30.089640', 'id': 549, 'ipAddress': '10.20.80.136', 'lastSeen': '2020-09-13T05:45:55.280025', 'macAddress': 'ed:14:c6:ab:c7:da', 'manufacturer': 'VMware', 'model': 'VMware device', 'name': 'SWUSMTOCIOE2', 'operatingSystem': 'Windows', 'operatingSystemVersion': '10', 'riskLevel': 5, 'sensor': {'name': 'ICS_Switch', 'type': 'Switch'}, 'site': {'location': 'Austin, TX', 'name': 'TX Manufacturing Center'}, 'tags': ['ICS'], 'type': 'Scada Server', 'user': '', 'visibility': 'Full'}, {'accessSwitch': 'N/A', 'category': 'Manufacturing', 'firstSeen': '2020-08-30T01:45:30.089640', 'id': 550, 'ipAddress': '10.20.80.37', 'lastSeen': '2020-09-13T05:45:55.291074', 'macAddress': '8a:ed:1d:b4:b3:50', 'manufacturer': 'VMware', 'model': 'VMware device', 'name': 'SWUSMT37A', 'operatingSystem': 'Windows', 'operatingSystemVersion': '10', 'riskLevel': 5, 'sensor': {'name': 'ICS_Switch', 'type': 'Switch'}, 'site': {'location': 'Austin, TX', 'name': 'TX Manufacturing Center'}, 'tags': ['ICS'], 'type': 'Scada Server', 'user': '', 'visibility': 'Full'}, {'accessSwitch': 'N/A', 'category': 'Network', 'firstSeen': '2020-08-30T01:45:30.089640', 'id': 551, 'ipAddress': '10.20.80.212', 'lastSeen': '2020-09-13T05:45:55.302865', 'macAddress': 'ad:6b:28:ef:3a:17', 'manufacturer': 'Cisco', 'model': 'Catalyst 4500', 'name': 'Catalyst 45001', 'operatingSystem': 'Cisco IOS', 'operatingSystemVersion': '16.6.5', 'riskLevel': 7, 'sensor': {'name': 'ICS_Switch', 'type': 'Switch'}, 'site': {'location': 'Austin, TX', 'name': 'TX Manufacturing Center'}, 'tags': ['ICS', 'Corporate'], 'type': 'Switch', 'user': '', 'visibility': 'Full'}, {'accessSwitch': 'N/A', 'category': 'Network', 'firstSeen': '2020-08-30T01:45:30.089640', 'id': 552, 'ipAddress': '10.20.80.205', 'lastSeen': '2020-09-13T05:45:55.315487', 'macAddress': '0e:16:84:bb:fd:23', 'manufacturer': 'Cisco', 'model': 'Catalyst 4500', 'name': 'Catalyst 45002', 'operatingSystem': 'Cisco IOS', 'operatingSystemVersion': '16.6.5', 'riskLevel': 4, 'sensor': {'name': 'ICS_Switch', 'type': 'Switch'}, 'site': {'location': 'Austin, TX', 'name': 'TX Manufacturing Center'}, 'tags': ['ICS', 'Corporate'], 'type': 'Switch', 'user': '', 'visibility': 'Full'}, {'accessSwitch': 'N/A', 'category': 'Network', 'firstSeen': '2020-08-30T01:45:30.089640', 'id': 553, 'ipAddress': '10.20.80.207', 'lastSeen': '2020-09-13T05:45:55.327836', 'macAddress': 'f4:ca:5c:eb:d1:bf', 'manufacturer': 'Cisco', 'model': 'Catalyst 4500', 'name': 'Catalyst 45003', 'operatingSystem': 'Cisco IOS', 'operatingSystemVersion': '16.6.5', 'riskLevel': 6, 'sensor': {'name': 'ICS_Switch', 'type': 'Switch'}, 'site': {'location': 'Austin, TX', 'name': 'TX Manufacturing Center'}, 'tags': ['ICS', 'Corporate'], 'type': 'Switch', 'user': '', 'visibility': 'Full'}, {'accessSwitch': 'N/A', 'category': 'Computer', 'firstSeen': '2020-08-30T01:45:30.089640', 'id': 554, 'ipAddress': '10.20.80.54', 'lastSeen': '2020-09-13T05:45:55.340129', 'macAddress': '0c:5b:3a:f7:8d:f1', 'manufacturer': 'Hon Hai Precision Ind.', 'model': 'Hon device', 'name': 'USMTMJ068VK', 'operatingSystem': 'Windows', 'operatingSystemVersion': '7', 'riskLevel': 5, 'sensor': {'name': 'ICS_Switch', 'type': 'Switch'}, 'site': {'location': 'Austin, TX', 'name': 'TX Manufacturing Center'}, 'tags': ['ICS', 'Corporate'], 'type': 'Unknown', 'user': '', 'visibility': 'Full'}, {'accessSwitch': 'N/A', 'category': 'Computer', 'firstSeen': '2020-08-30T01:45:30.089640', 'id': 555, 'ipAddress': '10.20.80.58', 'lastSeen': '2020-09-13T05:45:55.352870', 'macAddress': 'cd:5e:2e:fb:43:7d', 'manufacturer': 'Micro-Star Intl', 'model': 'Micro-Star device', 'name': 'Micro-Star device1', 'operatingSystem': None, 'operatingSystemVersion': None, 'riskLevel': 6, 'sensor': {'name': 'ICS_Switch', 'type': 'Switch'}, 'site': {'location': 'Austin, TX', 'name': 'TX Manufacturing Center'}, 'tags': ['ICS', 'Corporate'], 'type': 'Workstation', 'user': '', 'visibility': 'Full'}, {'accessSwitch': 'N/A', 'category': 'Computer', 'firstSeen': '2020-08-30T01:45:30.089640', 'id': 556, 'ipAddress': '10.20.80.45', 'lastSeen': '2020-09-13T05:45:55.366475', 'macAddress': 'a9:be:af:21:75:34', 'manufacturer': 'Micro-Star Intl', 'model': 'Micro-Star device', 'name': 'Micro-Star device2', 'operatingSystem': 'Windows', 'operatingSystemVersion': '10', 'riskLevel': 6, 'sensor': {'name': 'ICS_Switch', 'type': 'Switch'}, 'site': {'location': 'Austin, TX', 'name': 'TX Manufacturing Center'}, 'tags': ['ICS-OK', 'ICS', 'Corporate'], 'type': 'Workstation', 'user': '', 'visibility': 'Full'}, {'accessSwitch': 'N/A', 'category': 'Computer', 'firstSeen': '2020-08-30T01:45:30.089640', 'id': 557, 'ipAddress': '10.20.80.39', 'lastSeen': '2020-09-13T05:45:55.379502', 'macAddress': 'cb:e3:c4:09:2a:6d', 'manufacturer': 'Micro-Star Intl', 'model': 'Micro-Star device', 'name': 'USMTMJ03MNJ7', 'operatingSystem': 'Windows', 'operatingSystemVersion': '7', 'riskLevel': 4, 'sensor': {'name': 'ICS_Switch', 'type': 'Switch'}, 'site': {'location': 'Austin, TX', 'name': 'TX Manufacturing Center'}, 'tags': ['ICS', 'Corporate'], 'type': 'Workstation', 'user': '', 'visibility': 'Full'}, {'accessSwitch': 'N/A', 'category': 'Computer', 'firstSeen': '2020-08-30T01:45:30.089640', 'id': 558, 'ipAddress': '10.20.80.59', 'lastSeen': '2020-09-13T05:45:55.394244', 'macAddress': '1c:02:ef:63:da:5b', 'manufacturer': 'Micro-Star Intl', 'model': 'Micro-Star device', 'name': 'usmtmj06b1ys.mf.win.com', 'operatingSystem': 'Windows', 'operatingSystemVersion': '10', 'riskLevel': 6, 'sensor': {'name': 'ICS_Switch', 'type': 'Switch'}, 'site': {'location': 'Austin, TX', 'name': 'TX Manufacturing Center'}, 'tags': ['ICS', 'Corporate'], 'type': 'Workstation', 'user': '', 'visibility': 'Full'}], 'next': None, 'prev': None, 'total': 79}, 'success': True}\n"
     ]
    }
   ],
   "source": [
    "print(response_ict) "
   ]
  },
  {
   "cell_type": "code",
   "execution_count": 11,
   "metadata": {},
   "outputs": [
    {
     "name": "stdout",
     "output_type": "stream",
     "text": [
      "List of Industrial devices:\n"
     ]
    }
   ],
   "source": [
    "print(\"List of Industrial devices:\")\n",
    "device_count = response_ict[\"data\"][\"count\"]\n"
   ]
  },
  {
   "cell_type": "code",
   "execution_count": 12,
   "metadata": {},
   "outputs": [
    {
     "name": "stdout",
     "output_type": "stream",
     "text": [
      "79\n"
     ]
    }
   ],
   "source": [
    "print(device_count)"
   ]
  },
  {
   "cell_type": "code",
   "execution_count": null,
   "metadata": {},
   "outputs": [],
   "source": []
  },
  {
   "cell_type": "code",
   "execution_count": 13,
   "metadata": {
    "scrolled": false
   },
   "outputs": [
    {
     "name": "stdout",
     "output_type": "stream",
     "text": [
      "Rockwell device \t\t IP : 192.168.40.10  \t\t  Risk Level: 7\n",
      "Mettler Keyence HMI-Server \t\t IP : 192.168.1.132  \t\t  Risk Level: 7\n",
      "Rockwell device \t\t IP : 192.168.40.31  \t\t  Risk Level: 6\n",
      "Rockwell device \t\t IP : 192.168.40.33  \t\t  Risk Level: 5\n",
      "Rockwell device \t\t IP : 192.168.40.37  \t\t  Risk Level: 6\n",
      "Room Temprature Sensor Pt100 \t\t IP : 192.168.40.101  \t\t  Risk Level: 6\n",
      "Acromag Thermostat Control \t\t IP : 192.168.10.62  \t\t  Risk Level: 5\n",
      "Siemens Room Temperature Sensor \t\t IP : 192.168.1.116  \t\t  Risk Level: 6\n",
      "Keyence Flow Sensor FD-X \t\t IP : 192.168.4.229  \t\t  Risk Level: 5\n",
      "Keyence Temperature Device FT \t\t IP : 192.168.4.221  \t\t  Risk Level: 6\n",
      "Mettler Scale \t\t IP : 192.168.10.40  \t\t  Risk Level: 6\n",
      "1756-L72S/B LOGIX5572SAFETY \t\t IP : 192.168.40.11  \t\t  Risk Level: 4\n",
      "1756-L83E/B \t\t IP : 192.168.40.12  \t\t  Risk Level: 4\n",
      "1756-L83E/B \t\t IP : 192.168.40.12  \t\t  Risk Level: 4\n",
      "Telemechanique PLC \t\t IP : 192.168.6.55  \t\t  Risk Level: 7\n",
      "PanelView-Plus PLC \t\t IP : 192.168.6.72  \t\t  Risk Level: 7\n",
      "1756-L71/B LOGIX5571 \t\t IP : 10.20.80.141  \t\t  Risk Level: 9\n",
      "1769-L32E/A LOGIX5332E1 \t\t IP : 10.20.80.95  \t\t  Risk Level: 9\n",
      "1756-L81E/B1 \t\t IP : 10.20.80.123  \t\t  Risk Level: 9\n",
      "1769-L16ER/A LOGIX5316ER \t\t IP : 10.20.80.166  \t\t  Risk Level: 9\n",
      "1769-L32E/A LOGIX5332E2 \t\t IP : 10.20.80.124  \t\t  Risk Level: 9\n",
      "1756-L81E/B2 \t\t IP : 10.20.80.190  \t\t  Risk Level: 9\n",
      "Kinetix3001 \t\t IP : 10.20.80.88  \t\t  Risk Level: 4\n",
      "1756-L73S/B LOGIX5573SAFETY \t\t IP : 10.20.80.96  \t\t  Risk Level: 2\n",
      "1756-L61/B LOGIX5561 \t\t IP : 10.20.80.125  \t\t  Risk Level: 6\n",
      "1734-AENTR/B Ethernet Adapter \t\t IP : 10.20.80.97  \t\t  Risk Level: 2\n",
      "1769-L32E/A LOGIX5332E3 \t\t IP : 10.20.80.185  \t\t  Risk Level: 9\n",
      "1756-L81E/B3 \t\t IP : 10.20.80.240  \t\t  Risk Level: 9\n",
      "1756-L81E/B4 \t\t IP : 10.20.80.90  \t\t  Risk Level: 9\n",
      "1769-L32E/A LOGIX5332E4 \t\t IP : 10.20.80.245  \t\t  Risk Level: 9\n",
      "1769-L32E/A LOGIX5332E5 \t\t IP : 10.20.80.85  \t\t  Risk Level: 9\n",
      "1769-L32E/A LOGIX5332E6 \t\t IP : 10.20.80.195  \t\t  Risk Level: 9\n",
      "Kinetix3002 \t\t IP : 10.20.80.188  \t\t  Risk Level: 4\n",
      "1769-L16ER/A LOGIX5316ER \t\t IP : 10.20.80.117  \t\t  Risk Level: 9\n",
      "Kinetix3003 \t\t IP : 10.20.80.238  \t\t  Risk Level: 4\n",
      "1769-L16ER/A LOGIX5316ER2 \t\t IP : 10.20.80.116  \t\t  Risk Level: 9\n",
      "1756-L81E/B4 \t\t IP : 10.20.80.90  \t\t  Risk Level: 9\n",
      "1769-L32E/A LOGIX5332E7 \t\t IP : 10.20.80.128  \t\t  Risk Level: 9\n",
      "IV-HG Series PLC \t\t IP : 192.168.5.103  \t\t  Risk Level: 7\n",
      "In-Sight 7800 PLC \t\t IP : 192.168.3.188  \t\t  Risk Level: 7\n",
      "CPX-FB36 Remote I/O PLC \t\t IP : 192.168.1.173  \t\t  Risk Level: 7\n",
      "Hewlett Packard HMI 0K2 \t\t IP : 192.168.8.81  \t\t  Risk Level: 7\n",
      "Ultrachem Particle Counter \t\t IP : 192.168.2.209  \t\t  Risk Level: 7\n",
      "FactoryTalk 2483 HMI \t\t IP : 192.168.9.104  \t\t  Risk Level: 7\n",
      "Access Control Platform \t\t IP : 192.168.3.105  \t\t  Risk Level: 7\n",
      "Access Control Platform \t\t IP : 192.168.8.231  \t\t  Risk Level: 7\n",
      "HMICLNT1 \t\t IP : 192.168.40.21  \t\t  Risk Level: 7\n",
      "HMISERV1 \t\t IP : 192.168.40.22  \t\t  Risk Level: 5\n",
      "HMS device1 \t\t IP : 10.15.32.81  \t\t  Risk Level: 4\n",
      "HMS device2 \t\t IP : 10.15.32.82  \t\t  Risk Level: 4\n",
      "HMS device3 \t\t IP : 10.15.32.83  \t\t  Risk Level: 4\n",
      "HMS device4 \t\t IP : 10.15.32.84  \t\t  Risk Level: 4\n",
      "C600-1 \t\t IP : 10.20.80.151  \t\t  Risk Level: 4\n",
      "SWUSMTOCDEV2 \t\t IP : 10.20.80.131  \t\t  Risk Level: 7\n",
      "SWUSMTOCDEV1 \t\t IP : 10.20.80.130  \t\t  Risk Level: 9\n",
      "SWUSMT36A \t\t IP : 10.20.80.36  \t\t  Risk Level: 5\n",
      "PanelView Plus_6 700 \t\t IP : 10.20.80.127  \t\t  Risk Level: 9\n",
      "FANUC device1 \t\t IP : 10.20.81.251  \t\t  Risk Level: 4\n",
      "FANUC device2 \t\t IP : 10.20.81.250  \t\t  Risk Level: 4\n",
      "Lantronix device \t\t IP : 10.20.80.91  \t\t  Risk Level: 6\n",
      "Lantronix device2 \t\t IP : 10.20.80.146  \t\t  Risk Level: 6\n",
      "Lantronix device3 \t\t IP : 10.20.80.147  \t\t  Risk Level: 6\n",
      "Cisco device \t\t IP : 10.20.80.1  \t\t  Risk Level: 4\n",
      "Catalyst 45001 \t\t IP : 10.20.80.204  \t\t  Risk Level: 4\n",
      "Catalyst 45002 \t\t IP : 10.20.80.208  \t\t  Risk Level: 3\n",
      "scdclnt3 \t\t IP : 10.20.80.38  \t\t  Risk Level: 3\n",
      "scdclnt4 \t\t IP : 10.20.80.140  \t\t  Risk Level: 3\n",
      "scdclnt5 \t\t IP : 10.20.80.145  \t\t  Risk Level: 3\n",
      "SWUSMTOCIOE1 \t\t IP : 10.20.80.135  \t\t  Risk Level: 5\n",
      "SWUSMTOCIOE2 \t\t IP : 10.20.80.136  \t\t  Risk Level: 5\n",
      "SWUSMT37A \t\t IP : 10.20.80.37  \t\t  Risk Level: 5\n",
      "Catalyst 45001 \t\t IP : 10.20.80.212  \t\t  Risk Level: 7\n",
      "Catalyst 45002 \t\t IP : 10.20.80.205  \t\t  Risk Level: 4\n",
      "Catalyst 45003 \t\t IP : 10.20.80.207  \t\t  Risk Level: 6\n",
      "USMTMJ068VK \t\t IP : 10.20.80.54  \t\t  Risk Level: 5\n",
      "Micro-Star device1 \t\t IP : 10.20.80.58  \t\t  Risk Level: 6\n",
      "Micro-Star device2 \t\t IP : 10.20.80.45  \t\t  Risk Level: 6\n",
      "USMTMJ03MNJ7 \t\t IP : 10.20.80.39  \t\t  Risk Level: 4\n",
      "usmtmj06b1ys.mf.win.com \t\t IP : 10.20.80.59  \t\t  Risk Level: 6\n"
     ]
    }
   ],
   "source": [
    "for x in range(0,device_count):\n",
    "  print(response_ict[\"data\"][\"data\"][x][\"name\"] , end = '' )\n",
    "  print(\" \\t\\t IP : \", end = '' )\n",
    "  print(response_ict[\"data\"][\"data\"][x][\"ipAddress\"] , end = '')\n",
    "  print(\"  \\t\\t  Risk Level: \", end = '' )\n",
    "  print(response_ict[\"data\"][\"data\"][x][\"riskLevel\"])"
   ]
  },
  {
   "cell_type": "code",
   "execution_count": null,
   "metadata": {},
   "outputs": [],
   "source": []
  },
  {
   "cell_type": "code",
   "execution_count": 12,
   "metadata": {
    "scrolled": true
   },
   "outputs": [
    {
     "name": "stdout",
     "output_type": "stream",
     "text": [
      "vpn123\n"
     ]
    }
   ],
   "source": [
    "\n",
    "\n",
    "\n",
    "def api_ckp_quarantine_call(ckp_address, port, json_ckp_payload, access_token):\n",
    "    url = 'https://' + ckp_address   + '/_IA_API/v1.0/add-identity'\n",
    "    \n",
    "    print(url)\n",
    "\n",
    "    request_headers = {'Content-Type' : 'application/json'  }\n",
    "    print(request_headers)      \n",
    "    r = requests.post(url,data = json.dumps(json_ckp_payload), headers=request_headers, verify=False)\n",
    "\n",
    "    \n",
    "    print (json_ckp_payload)\n",
    "    print(r)\n",
    "    \n",
    "    return r.json()\n",
    "\n",
    "\n",
    "print(ckp_token)"
   ]
  },
  {
   "cell_type": "code",
   "execution_count": 13,
   "metadata": {},
   "outputs": [
    {
     "name": "stdout",
     "output_type": "stream",
     "text": [
      "1756-L71/B LOGIX5571\n",
      "https://192.168.10.250/_IA_API/v1.0/add-identity\n",
      "{'Content-Type': 'application/json'}\n",
      "{'shared-secret': 'vpn123', 'ip-address': '10.20.80.141', 'machine': '1756-L71/B LOGIX5571', 'machine-groups': ['Function=ABC'], 'roles': ['HIGH RISK'], 'session-timeout': 360, 'fetch-machine-groups': False, 'calculate-roles': False, 'identity-source': 'Armis via Emperor'}\n",
      "<Response [200]>\n",
      "1769-L32E/A LOGIX5332E1\n",
      "https://192.168.10.250/_IA_API/v1.0/add-identity\n",
      "{'Content-Type': 'application/json'}\n",
      "{'shared-secret': 'vpn123', 'ip-address': '10.20.80.95', 'machine': '1769-L32E/A LOGIX5332E1', 'machine-groups': ['Function=ABC'], 'roles': ['HIGH RISK'], 'session-timeout': 360, 'fetch-machine-groups': False, 'calculate-roles': False, 'identity-source': 'Armis via Emperor'}\n",
      "<Response [200]>\n",
      "1756-L81E/B1\n",
      "https://192.168.10.250/_IA_API/v1.0/add-identity\n",
      "{'Content-Type': 'application/json'}\n",
      "{'shared-secret': 'vpn123', 'ip-address': '10.20.80.123', 'machine': '1756-L81E/B1', 'machine-groups': ['Function=ABC'], 'roles': ['HIGH RISK'], 'session-timeout': 360, 'fetch-machine-groups': False, 'calculate-roles': False, 'identity-source': 'Armis via Emperor'}\n",
      "<Response [200]>\n",
      "1769-L16ER/A LOGIX5316ER\n",
      "https://192.168.10.250/_IA_API/v1.0/add-identity\n",
      "{'Content-Type': 'application/json'}\n",
      "{'shared-secret': 'vpn123', 'ip-address': '10.20.80.166', 'machine': '1769-L16ER/A LOGIX5316ER', 'machine-groups': ['Function=ABC'], 'roles': ['HIGH RISK'], 'session-timeout': 360, 'fetch-machine-groups': False, 'calculate-roles': False, 'identity-source': 'Armis via Emperor'}\n",
      "<Response [200]>\n",
      "1769-L32E/A LOGIX5332E2\n",
      "https://192.168.10.250/_IA_API/v1.0/add-identity\n",
      "{'Content-Type': 'application/json'}\n",
      "{'shared-secret': 'vpn123', 'ip-address': '10.20.80.124', 'machine': '1769-L32E/A LOGIX5332E2', 'machine-groups': ['Function=ABC'], 'roles': ['HIGH RISK'], 'session-timeout': 360, 'fetch-machine-groups': False, 'calculate-roles': False, 'identity-source': 'Armis via Emperor'}\n",
      "<Response [200]>\n",
      "1756-L81E/B2\n",
      "https://192.168.10.250/_IA_API/v1.0/add-identity\n",
      "{'Content-Type': 'application/json'}\n",
      "{'shared-secret': 'vpn123', 'ip-address': '10.20.80.190', 'machine': '1756-L81E/B2', 'machine-groups': ['Function=ABC'], 'roles': ['HIGH RISK'], 'session-timeout': 360, 'fetch-machine-groups': False, 'calculate-roles': False, 'identity-source': 'Armis via Emperor'}\n",
      "<Response [200]>\n",
      "1769-L32E/A LOGIX5332E3\n",
      "https://192.168.10.250/_IA_API/v1.0/add-identity\n",
      "{'Content-Type': 'application/json'}\n",
      "{'shared-secret': 'vpn123', 'ip-address': '10.20.80.185', 'machine': '1769-L32E/A LOGIX5332E3', 'machine-groups': ['Function=ABC'], 'roles': ['HIGH RISK'], 'session-timeout': 360, 'fetch-machine-groups': False, 'calculate-roles': False, 'identity-source': 'Armis via Emperor'}\n",
      "<Response [200]>\n",
      "1756-L81E/B3\n",
      "https://192.168.10.250/_IA_API/v1.0/add-identity\n",
      "{'Content-Type': 'application/json'}\n",
      "{'shared-secret': 'vpn123', 'ip-address': '10.20.80.240', 'machine': '1756-L81E/B3', 'machine-groups': ['Function=ABC'], 'roles': ['HIGH RISK'], 'session-timeout': 360, 'fetch-machine-groups': False, 'calculate-roles': False, 'identity-source': 'Armis via Emperor'}\n",
      "<Response [200]>\n",
      "1756-L81E/B4\n",
      "https://192.168.10.250/_IA_API/v1.0/add-identity\n",
      "{'Content-Type': 'application/json'}\n",
      "{'shared-secret': 'vpn123', 'ip-address': '10.20.80.90', 'machine': '1756-L81E/B4', 'machine-groups': ['Function=ABC'], 'roles': ['HIGH RISK'], 'session-timeout': 360, 'fetch-machine-groups': False, 'calculate-roles': False, 'identity-source': 'Armis via Emperor'}\n",
      "<Response [200]>\n",
      "1769-L32E/A LOGIX5332E4\n",
      "https://192.168.10.250/_IA_API/v1.0/add-identity\n",
      "{'Content-Type': 'application/json'}\n",
      "{'shared-secret': 'vpn123', 'ip-address': '10.20.80.245', 'machine': '1769-L32E/A LOGIX5332E4', 'machine-groups': ['Function=ABC'], 'roles': ['HIGH RISK'], 'session-timeout': 360, 'fetch-machine-groups': False, 'calculate-roles': False, 'identity-source': 'Armis via Emperor'}\n",
      "<Response [200]>\n",
      "1769-L32E/A LOGIX5332E5\n",
      "https://192.168.10.250/_IA_API/v1.0/add-identity\n",
      "{'Content-Type': 'application/json'}\n",
      "{'shared-secret': 'vpn123', 'ip-address': '10.20.80.85', 'machine': '1769-L32E/A LOGIX5332E5', 'machine-groups': ['Function=ABC'], 'roles': ['HIGH RISK'], 'session-timeout': 360, 'fetch-machine-groups': False, 'calculate-roles': False, 'identity-source': 'Armis via Emperor'}\n",
      "<Response [200]>\n",
      "1769-L32E/A LOGIX5332E6\n",
      "https://192.168.10.250/_IA_API/v1.0/add-identity\n",
      "{'Content-Type': 'application/json'}\n",
      "{'shared-secret': 'vpn123', 'ip-address': '10.20.80.195', 'machine': '1769-L32E/A LOGIX5332E6', 'machine-groups': ['Function=ABC'], 'roles': ['HIGH RISK'], 'session-timeout': 360, 'fetch-machine-groups': False, 'calculate-roles': False, 'identity-source': 'Armis via Emperor'}\n",
      "<Response [200]>\n",
      "1769-L16ER/A LOGIX5316ER\n",
      "https://192.168.10.250/_IA_API/v1.0/add-identity\n",
      "{'Content-Type': 'application/json'}\n",
      "{'shared-secret': 'vpn123', 'ip-address': '10.20.80.117', 'machine': '1769-L16ER/A LOGIX5316ER', 'machine-groups': ['Function=ABC'], 'roles': ['HIGH RISK'], 'session-timeout': 360, 'fetch-machine-groups': False, 'calculate-roles': False, 'identity-source': 'Armis via Emperor'}\n",
      "<Response [200]>\n",
      "1769-L16ER/A LOGIX5316ER2\n",
      "https://192.168.10.250/_IA_API/v1.0/add-identity\n",
      "{'Content-Type': 'application/json'}\n",
      "{'shared-secret': 'vpn123', 'ip-address': '10.20.80.116', 'machine': '1769-L16ER/A LOGIX5316ER2', 'machine-groups': ['Function=ABC'], 'roles': ['HIGH RISK'], 'session-timeout': 360, 'fetch-machine-groups': False, 'calculate-roles': False, 'identity-source': 'Armis via Emperor'}\n",
      "<Response [200]>\n",
      "1756-L81E/B4\n",
      "https://192.168.10.250/_IA_API/v1.0/add-identity\n",
      "{'Content-Type': 'application/json'}\n",
      "{'shared-secret': 'vpn123', 'ip-address': '10.20.80.90', 'machine': '1756-L81E/B4', 'machine-groups': ['Function=ABC'], 'roles': ['HIGH RISK'], 'session-timeout': 360, 'fetch-machine-groups': False, 'calculate-roles': False, 'identity-source': 'Armis via Emperor'}\n",
      "<Response [200]>\n",
      "1769-L32E/A LOGIX5332E7\n",
      "https://192.168.10.250/_IA_API/v1.0/add-identity\n",
      "{'Content-Type': 'application/json'}\n",
      "{'shared-secret': 'vpn123', 'ip-address': '10.20.80.128', 'machine': '1769-L32E/A LOGIX5332E7', 'machine-groups': ['Function=ABC'], 'roles': ['HIGH RISK'], 'session-timeout': 360, 'fetch-machine-groups': False, 'calculate-roles': False, 'identity-source': 'Armis via Emperor'}\n",
      "<Response [200]>\n",
      "SWUSMTOCDEV1\n",
      "https://192.168.10.250/_IA_API/v1.0/add-identity\n",
      "{'Content-Type': 'application/json'}\n",
      "{'shared-secret': 'vpn123', 'ip-address': '10.20.80.130', 'machine': 'SWUSMTOCDEV1', 'machine-groups': ['Function=ABC'], 'roles': ['HIGH RISK'], 'session-timeout': 360, 'fetch-machine-groups': False, 'calculate-roles': False, 'identity-source': 'Armis via Emperor'}\n",
      "<Response [200]>\n",
      "PanelView Plus_6 700\n",
      "https://192.168.10.250/_IA_API/v1.0/add-identity\n",
      "{'Content-Type': 'application/json'}\n",
      "{'shared-secret': 'vpn123', 'ip-address': '10.20.80.127', 'machine': 'PanelView Plus_6 700', 'machine-groups': ['Function=ABC'], 'roles': ['HIGH RISK'], 'session-timeout': 360, 'fetch-machine-groups': False, 'calculate-roles': False, 'identity-source': 'Armis via Emperor'}\n",
      "<Response [200]>\n"
     ]
    }
   ],
   "source": [
    "for x in range(0,device_count):\n",
    "  if (response_ict[\"data\"][\"data\"][x][\"riskLevel\"] > 7):\n",
    "      print(response_ict[\"data\"][\"data\"][x][\"name\"]  )\n",
    "      json_ckp_payload = { \"shared-secret\":\"vpn123\",  \"ip-address\" : response_ict[\"data\"][\"data\"][x][\"ipAddress\"] ,    \"machine\" : response_ict[\"data\"][\"data\"][x][\"name\"] ,  \"machine-groups\" : [ \"Function=ABC\" ],    \"roles\" : [ \"HIGH RISK\" ],     \"session-timeout\" : 360,     \"fetch-machine-groups\" : False,     \"calculate-roles\" : False,    \"identity-source\" : \"Armis via Emperor\"  }\n",
    "      api_ckp_quarantine_call(ckp_address, 443, json_ckp_payload, access_token)\n",
    "        "
   ]
  },
  {
   "cell_type": "code",
   "execution_count": 14,
   "metadata": {},
   "outputs": [
    {
     "name": "stdout",
     "output_type": "stream",
     "text": [
      "https://192.168.10.250/_IA_API/v1.0/add-identity\n",
      "{'Content-Type': 'application/json'}\n",
      "{'shared-secret': 'vpn123', 'ip-address': '10.20.80.127', 'machine': 'PanelView Plus_6 700', 'machine-groups': ['Function=ABC'], 'roles': ['HIGH RISK'], 'session-timeout': 360, 'fetch-machine-groups': False, 'calculate-roles': False, 'identity-source': 'Armis via Emperor'}\n",
      "<Response [200]>\n"
     ]
    },
    {
     "data": {
      "text/plain": [
       "{'ipv4-address': '10.20.80.127', 'message': 'Association sent to PDP.'}"
      ]
     },
     "execution_count": 14,
     "metadata": {},
     "output_type": "execute_result"
    }
   ],
   "source": [
    "api_ckp_quarantine_call(ckp_address, 443, json_ckp_payload, ckp_token)"
   ]
  },
  {
   "cell_type": "code",
   "execution_count": null,
   "metadata": {},
   "outputs": [],
   "source": []
  },
  {
   "cell_type": "code",
   "execution_count": null,
   "metadata": {},
   "outputs": [],
   "source": []
  },
  {
   "cell_type": "code",
   "execution_count": null,
   "metadata": {},
   "outputs": [],
   "source": []
  },
  {
   "cell_type": "code",
   "execution_count": null,
   "metadata": {},
   "outputs": [],
   "source": []
  },
  {
   "cell_type": "code",
   "execution_count": null,
   "metadata": {},
   "outputs": [],
   "source": []
  },
  {
   "cell_type": "code",
   "execution_count": null,
   "metadata": {},
   "outputs": [],
   "source": []
  },
  {
   "cell_type": "code",
   "execution_count": null,
   "metadata": {},
   "outputs": [],
   "source": []
  },
  {
   "cell_type": "code",
   "execution_count": null,
   "metadata": {},
   "outputs": [],
   "source": []
  }
 ],
 "metadata": {
  "kernelspec": {
   "display_name": "Python 3",
   "language": "python",
   "name": "python3"
  },
  "language_info": {
   "codemirror_mode": {
    "name": "ipython",
    "version": 3
   },
   "file_extension": ".py",
   "mimetype": "text/x-python",
   "name": "python",
   "nbconvert_exporter": "python",
   "pygments_lexer": "ipython3",
   "version": "3.7.6"
  }
 },
 "nbformat": 4,
 "nbformat_minor": 4
}
